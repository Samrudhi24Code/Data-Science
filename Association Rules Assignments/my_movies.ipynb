{
 "cells": [
  {
   "cell_type": "markdown",
   "id": "ce00b413-baaa-406d-ac9e-24424d3e1edc",
   "metadata": {},
   "source": [
    "# 1.Business Problem"
   ]
  },
  {
   "cell_type": "code",
   "execution_count": 1,
   "id": "2e2b0dfa-2690-46dd-af2c-fbab53a126e2",
   "metadata": {},
   "outputs": [],
   "source": [
    "#1.1. Business Objective\n",
    "\n",
    "#The objective is to help a film distribution company target their audience based on movie preferences (likes/dislikes).\n",
    "#By analyzing the data, we will identify frequent movie-watching patterns \n",
    "#and generate rules that show which movies are often liked together.\n",
    "#This will help recommend relevant movies to specific customer segments."
   ]
  },
  {
   "cell_type": "code",
   "execution_count": 3,
   "id": "73e5e561-fb92-49cd-afb0-44a7002d96c6",
   "metadata": {},
   "outputs": [],
   "source": [
    "#1.2 Constraits\n",
    "\n",
    "#Availability and completeness of data (missing data or limited customer preferences)."
   ]
  },
  {
   "cell_type": "markdown",
   "id": "d90b1e7f-5b23-4425-9025-d9cb9586100f",
   "metadata": {},
   "source": [
    "# 2.Data Dictionary"
   ]
  },
  {
   "cell_type": "code",
   "execution_count": 4,
   "id": "9f9e6baa-6372-4f68-a192-51963b3a4e29",
   "metadata": {},
   "outputs": [],
   "source": [
    "#All of the columns are categorical because they represent a yes/no (binary) choice indicating user preferences for different movies."
   ]
  },
  {
   "cell_type": "code",
   "execution_count": 6,
   "id": "4def0ffd-d6ba-4979-9ba7-aacf16c22646",
   "metadata": {},
   "outputs": [],
   "source": [
    "import pandas as pd  # Used for data manipulation and analysis\n",
    "from mlxtend.frequent_patterns import apriori, association_rules "
   ]
  },
  {
   "cell_type": "code",
   "execution_count": null,
   "id": "235ce6dc-939f-49f6-8cc3-0c8019325852",
   "metadata": {},
   "outputs": [],
   "source": [
    "#  Load the dataset\n",
    "file_path = 'my_movies.csv'  \n",
    "df = pd.read_csv(file_path)"
   ]
  },
  {
   "cell_type": "markdown",
   "id": "9c3d0673-7e56-490b-ad74-b5e89eb8da63",
   "metadata": {},
   "source": [
    "# 3.Data Modeling"
   ]
  },
  {
   "cell_type": "code",
   "execution_count": 14,
   "id": "2586e224-fcff-498d-b573-7fe34273a4d9",
   "metadata": {},
   "outputs": [
    {
     "data": {
      "text/plain": [
       "Sixth Sense      0\n",
       "Gladiator        0\n",
       "LOTR1            0\n",
       "Harry Potter1    0\n",
       "Patriot          0\n",
       "LOTR2            0\n",
       "Harry Potter2    0\n",
       "LOTR             0\n",
       "Braveheart       0\n",
       "Green Mile       0\n",
       "dtype: int64"
      ]
     },
     "execution_count": 14,
     "metadata": {},
     "output_type": "execute_result"
    }
   ],
   "source": [
    "# Data Cleaning & Feature Engineering\n",
    "#The dataset is clean with no missing values. \n",
    "#The data is already binary, which suits the requirements for association rule mining using the Apriori algorithm. \n",
    "\n",
    "df.isnull().sum()\n"
   ]
  },
  {
   "cell_type": "code",
   "execution_count": 15,
   "id": "959ab6d9-291d-4459-aecd-f839566b6ff5",
   "metadata": {},
   "outputs": [],
   "source": [
    "# Step 2: Convert integer columns (0 and 1) to boolean (False and True)\n",
    "# Since the dataset is already in the form of 0's and 1's, we can convert it to boolean.\n",
    "df = df.astype(bool)"
   ]
  },
  {
   "cell_type": "code",
   "execution_count": 16,
   "id": "68402e69-d6f0-41af-a7dc-7349899b035a",
   "metadata": {},
   "outputs": [],
   "source": [
    "# Step 3: Apply the Apriori algorithm to find frequent itemsets\n",
    "# We can set min_support to a reasonable threshold, such as 0.1 (i.e., 10%)\n",
    "frequent_itemsets = apriori(df, min_support=0.1, use_colnames=True)"
   ]
  },
  {
   "cell_type": "code",
   "execution_count": 18,
   "id": "524145a0-0934-474a-a654-92240b06e440",
   "metadata": {},
   "outputs": [
    {
     "data": {
      "text/html": [
       "<div>\n",
       "<style scoped>\n",
       "    .dataframe tbody tr th:only-of-type {\n",
       "        vertical-align: middle;\n",
       "    }\n",
       "\n",
       "    .dataframe tbody tr th {\n",
       "        vertical-align: top;\n",
       "    }\n",
       "\n",
       "    .dataframe thead th {\n",
       "        text-align: right;\n",
       "    }\n",
       "</style>\n",
       "<table border=\"1\" class=\"dataframe\">\n",
       "  <thead>\n",
       "    <tr style=\"text-align: right;\">\n",
       "      <th></th>\n",
       "      <th>antecedents</th>\n",
       "      <th>consequents</th>\n",
       "      <th>antecedent support</th>\n",
       "      <th>consequent support</th>\n",
       "      <th>support</th>\n",
       "      <th>confidence</th>\n",
       "      <th>lift</th>\n",
       "      <th>leverage</th>\n",
       "      <th>conviction</th>\n",
       "      <th>zhangs_metric</th>\n",
       "    </tr>\n",
       "  </thead>\n",
       "  <tbody>\n",
       "    <tr>\n",
       "      <th>0</th>\n",
       "      <td>(Gladiator)</td>\n",
       "      <td>(Sixth Sense)</td>\n",
       "      <td>0.7</td>\n",
       "      <td>0.6</td>\n",
       "      <td>0.5</td>\n",
       "      <td>0.714286</td>\n",
       "      <td>1.190476</td>\n",
       "      <td>0.08</td>\n",
       "      <td>1.4</td>\n",
       "      <td>0.533333</td>\n",
       "    </tr>\n",
       "    <tr>\n",
       "      <th>1</th>\n",
       "      <td>(Sixth Sense)</td>\n",
       "      <td>(Gladiator)</td>\n",
       "      <td>0.6</td>\n",
       "      <td>0.7</td>\n",
       "      <td>0.5</td>\n",
       "      <td>0.833333</td>\n",
       "      <td>1.190476</td>\n",
       "      <td>0.08</td>\n",
       "      <td>1.8</td>\n",
       "      <td>0.400000</td>\n",
       "    </tr>\n",
       "    <tr>\n",
       "      <th>2</th>\n",
       "      <td>(LOTR)</td>\n",
       "      <td>(Sixth Sense)</td>\n",
       "      <td>0.1</td>\n",
       "      <td>0.6</td>\n",
       "      <td>0.1</td>\n",
       "      <td>1.000000</td>\n",
       "      <td>1.666667</td>\n",
       "      <td>0.04</td>\n",
       "      <td>inf</td>\n",
       "      <td>0.444444</td>\n",
       "    </tr>\n",
       "    <tr>\n",
       "      <th>3</th>\n",
       "      <td>(Green Mile)</td>\n",
       "      <td>(Sixth Sense)</td>\n",
       "      <td>0.2</td>\n",
       "      <td>0.6</td>\n",
       "      <td>0.2</td>\n",
       "      <td>1.000000</td>\n",
       "      <td>1.666667</td>\n",
       "      <td>0.08</td>\n",
       "      <td>inf</td>\n",
       "      <td>0.500000</td>\n",
       "    </tr>\n",
       "    <tr>\n",
       "      <th>4</th>\n",
       "      <td>(Gladiator)</td>\n",
       "      <td>(Patriot)</td>\n",
       "      <td>0.7</td>\n",
       "      <td>0.6</td>\n",
       "      <td>0.6</td>\n",
       "      <td>0.857143</td>\n",
       "      <td>1.428571</td>\n",
       "      <td>0.18</td>\n",
       "      <td>2.8</td>\n",
       "      <td>1.000000</td>\n",
       "    </tr>\n",
       "    <tr>\n",
       "      <th>...</th>\n",
       "      <td>...</td>\n",
       "      <td>...</td>\n",
       "      <td>...</td>\n",
       "      <td>...</td>\n",
       "      <td>...</td>\n",
       "      <td>...</td>\n",
       "      <td>...</td>\n",
       "      <td>...</td>\n",
       "      <td>...</td>\n",
       "      <td>...</td>\n",
       "    </tr>\n",
       "    <tr>\n",
       "      <th>124</th>\n",
       "      <td>(Sixth Sense, LOTR2)</td>\n",
       "      <td>(Harry Potter1, Green Mile, LOTR1)</td>\n",
       "      <td>0.1</td>\n",
       "      <td>0.1</td>\n",
       "      <td>0.1</td>\n",
       "      <td>1.000000</td>\n",
       "      <td>10.000000</td>\n",
       "      <td>0.09</td>\n",
       "      <td>inf</td>\n",
       "      <td>1.000000</td>\n",
       "    </tr>\n",
       "    <tr>\n",
       "      <th>125</th>\n",
       "      <td>(Harry Potter1, Sixth Sense)</td>\n",
       "      <td>(Green Mile, LOTR2, LOTR1)</td>\n",
       "      <td>0.1</td>\n",
       "      <td>0.1</td>\n",
       "      <td>0.1</td>\n",
       "      <td>1.000000</td>\n",
       "      <td>10.000000</td>\n",
       "      <td>0.09</td>\n",
       "      <td>inf</td>\n",
       "      <td>1.000000</td>\n",
       "    </tr>\n",
       "    <tr>\n",
       "      <th>126</th>\n",
       "      <td>(LOTR2, Green Mile)</td>\n",
       "      <td>(Harry Potter1, Sixth Sense, LOTR1)</td>\n",
       "      <td>0.1</td>\n",
       "      <td>0.1</td>\n",
       "      <td>0.1</td>\n",
       "      <td>1.000000</td>\n",
       "      <td>10.000000</td>\n",
       "      <td>0.09</td>\n",
       "      <td>inf</td>\n",
       "      <td>1.000000</td>\n",
       "    </tr>\n",
       "    <tr>\n",
       "      <th>127</th>\n",
       "      <td>(Harry Potter1, LOTR2)</td>\n",
       "      <td>(Green Mile, Sixth Sense, LOTR1)</td>\n",
       "      <td>0.1</td>\n",
       "      <td>0.1</td>\n",
       "      <td>0.1</td>\n",
       "      <td>1.000000</td>\n",
       "      <td>10.000000</td>\n",
       "      <td>0.09</td>\n",
       "      <td>inf</td>\n",
       "      <td>1.000000</td>\n",
       "    </tr>\n",
       "    <tr>\n",
       "      <th>128</th>\n",
       "      <td>(Harry Potter1, Green Mile)</td>\n",
       "      <td>(Sixth Sense, LOTR2, LOTR1)</td>\n",
       "      <td>0.1</td>\n",
       "      <td>0.1</td>\n",
       "      <td>0.1</td>\n",
       "      <td>1.000000</td>\n",
       "      <td>10.000000</td>\n",
       "      <td>0.09</td>\n",
       "      <td>inf</td>\n",
       "      <td>1.000000</td>\n",
       "    </tr>\n",
       "  </tbody>\n",
       "</table>\n",
       "<p>129 rows × 10 columns</p>\n",
       "</div>"
      ],
      "text/plain": [
       "                      antecedents                          consequents  \\\n",
       "0                     (Gladiator)                        (Sixth Sense)   \n",
       "1                   (Sixth Sense)                          (Gladiator)   \n",
       "2                          (LOTR)                        (Sixth Sense)   \n",
       "3                    (Green Mile)                        (Sixth Sense)   \n",
       "4                     (Gladiator)                            (Patriot)   \n",
       "..                            ...                                  ...   \n",
       "124          (Sixth Sense, LOTR2)   (Harry Potter1, Green Mile, LOTR1)   \n",
       "125  (Harry Potter1, Sixth Sense)           (Green Mile, LOTR2, LOTR1)   \n",
       "126           (LOTR2, Green Mile)  (Harry Potter1, Sixth Sense, LOTR1)   \n",
       "127        (Harry Potter1, LOTR2)     (Green Mile, Sixth Sense, LOTR1)   \n",
       "128   (Harry Potter1, Green Mile)          (Sixth Sense, LOTR2, LOTR1)   \n",
       "\n",
       "     antecedent support  consequent support  support  confidence       lift  \\\n",
       "0                   0.7                 0.6      0.5    0.714286   1.190476   \n",
       "1                   0.6                 0.7      0.5    0.833333   1.190476   \n",
       "2                   0.1                 0.6      0.1    1.000000   1.666667   \n",
       "3                   0.2                 0.6      0.2    1.000000   1.666667   \n",
       "4                   0.7                 0.6      0.6    0.857143   1.428571   \n",
       "..                  ...                 ...      ...         ...        ...   \n",
       "124                 0.1                 0.1      0.1    1.000000  10.000000   \n",
       "125                 0.1                 0.1      0.1    1.000000  10.000000   \n",
       "126                 0.1                 0.1      0.1    1.000000  10.000000   \n",
       "127                 0.1                 0.1      0.1    1.000000  10.000000   \n",
       "128                 0.1                 0.1      0.1    1.000000  10.000000   \n",
       "\n",
       "     leverage  conviction  zhangs_metric  \n",
       "0        0.08         1.4       0.533333  \n",
       "1        0.08         1.8       0.400000  \n",
       "2        0.04         inf       0.444444  \n",
       "3        0.08         inf       0.500000  \n",
       "4        0.18         2.8       1.000000  \n",
       "..        ...         ...            ...  \n",
       "124      0.09         inf       1.000000  \n",
       "125      0.09         inf       1.000000  \n",
       "126      0.09         inf       1.000000  \n",
       "127      0.09         inf       1.000000  \n",
       "128      0.09         inf       1.000000  \n",
       "\n",
       "[129 rows x 10 columns]"
      ]
     },
     "execution_count": 18,
     "metadata": {},
     "output_type": "execute_result"
    }
   ],
   "source": [
    "# Step 4: Generate association rules from the frequent itemsets\n",
    "# We use 'confidence' as the metric, with a minimum confidence threshold (e.g., 70%)\n",
    "rules = association_rules(frequent_itemsets, metric=\"confidence\", min_threshold=0.7)\n",
    "rules"
   ]
  },
  {
   "cell_type": "markdown",
   "id": "15a38c75-9f72-478a-a08b-5eb444d94478",
   "metadata": {},
   "source": [
    "Lift\n",
    "Lift indicates the strength of an association between items. A lift value greater than 1 suggests a strong positive association, meaning the presence of the antecedent increases the likelihood of the consequent being present.\n",
    "\n",
    "Confidence\n",
    "Confidence measures the probability that a customer will purchase the consequent given that they have already purchased the antecedent. A higher confidence value signifies a stronger association between the two items."
   ]
  },
  {
   "cell_type": "code",
   "execution_count": 19,
   "id": "9b4783ff-7a9d-4aa4-bf70-6e0a1fce2511",
   "metadata": {},
   "outputs": [
    {
     "name": "stdout",
     "output_type": "stream",
     "text": [
      "Frequent Itemsets:\n",
      "    support                                           itemsets\n",
      "0       0.6                                      (Sixth Sense)\n",
      "1       0.7                                        (Gladiator)\n",
      "2       0.2                                            (LOTR1)\n",
      "3       0.2                                    (Harry Potter1)\n",
      "4       0.6                                          (Patriot)\n",
      "5       0.2                                            (LOTR2)\n",
      "6       0.1                                    (Harry Potter2)\n",
      "7       0.1                                             (LOTR)\n",
      "8       0.1                                       (Braveheart)\n",
      "9       0.2                                       (Green Mile)\n",
      "10      0.5                           (Gladiator, Sixth Sense)\n",
      "11      0.1                               (Sixth Sense, LOTR1)\n",
      "12      0.1                       (Harry Potter1, Sixth Sense)\n",
      "13      0.4                             (Patriot, Sixth Sense)\n",
      "14      0.1                               (Sixth Sense, LOTR2)\n",
      "15      0.1                                (Sixth Sense, LOTR)\n",
      "16      0.2                          (Sixth Sense, Green Mile)\n",
      "17      0.6                               (Gladiator, Patriot)\n",
      "18      0.1                                  (Gladiator, LOTR)\n",
      "19      0.1                            (Braveheart, Gladiator)\n",
      "20      0.1                            (Gladiator, Green Mile)\n",
      "21      0.1                             (Harry Potter1, LOTR1)\n",
      "22      0.2                                     (LOTR2, LOTR1)\n",
      "23      0.1                                (LOTR1, Green Mile)\n",
      "24      0.1                             (Harry Potter1, LOTR2)\n",
      "25      0.1                     (Harry Potter1, Harry Potter2)\n",
      "26      0.1                        (Harry Potter1, Green Mile)\n",
      "27      0.1                              (Braveheart, Patriot)\n",
      "28      0.1                                (LOTR2, Green Mile)\n",
      "29      0.1                                 (LOTR, Green Mile)\n",
      "30      0.4                  (Gladiator, Sixth Sense, Patriot)\n",
      "31      0.1                     (Gladiator, Sixth Sense, LOTR)\n",
      "32      0.1               (Gladiator, Sixth Sense, Green Mile)\n",
      "33      0.1                (Harry Potter1, Sixth Sense, LOTR1)\n",
      "34      0.1                        (Sixth Sense, LOTR2, LOTR1)\n",
      "35      0.1                   (LOTR1, Sixth Sense, Green Mile)\n",
      "36      0.1                (Harry Potter1, Sixth Sense, LOTR2)\n",
      "37      0.1           (Harry Potter1, Sixth Sense, Green Mile)\n",
      "38      0.1                   (Sixth Sense, LOTR2, Green Mile)\n",
      "39      0.1                    (Sixth Sense, LOTR, Green Mile)\n",
      "40      0.1                   (Braveheart, Gladiator, Patriot)\n",
      "41      0.1                      (Gladiator, LOTR, Green Mile)\n",
      "42      0.1                      (Harry Potter1, LOTR2, LOTR1)\n",
      "43      0.1                 (Harry Potter1, LOTR1, Green Mile)\n",
      "44      0.1                         (LOTR1, LOTR2, Green Mile)\n",
      "45      0.1                 (Harry Potter1, LOTR2, Green Mile)\n",
      "46      0.1         (Gladiator, Sixth Sense, LOTR, Green Mile)\n",
      "47      0.1         (Harry Potter1, Sixth Sense, LOTR2, LOTR1)\n",
      "48      0.1    (Harry Potter1, LOTR1, Sixth Sense, Green Mile)\n",
      "49      0.1            (LOTR1, Sixth Sense, LOTR2, Green Mile)\n",
      "50      0.1    (Harry Potter1, Sixth Sense, LOTR2, Green Mile)\n",
      "51      0.1          (Harry Potter1, LOTR1, LOTR2, Green Mile)\n",
      "52      0.1  (LOTR1, Sixth Sense, LOTR2, Green Mile, Harry ...\n"
     ]
    }
   ],
   "source": [
    "# Step 5: Output the results\n",
    "print(\"Frequent Itemsets:\")\n",
    "print(frequent_itemsets)\n",
    "\n"
   ]
  },
  {
   "cell_type": "markdown",
   "id": "0547c961-c295-4829-be9c-a1bb4c1b97d9",
   "metadata": {},
   "source": [
    "The analysis of frequent itemsets reveals crucial insights into viewer preferences and behavior. By leveraging this information, the film distribution company can enhance its recommendation systems and targeted marketing strategies to increase viewer engagement and satisfaction."
   ]
  },
  {
   "cell_type": "code",
   "execution_count": 20,
   "id": "51013907-1301-4c7e-ad85-d1846e67006e",
   "metadata": {},
   "outputs": [
    {
     "name": "stdout",
     "output_type": "stream",
     "text": [
      "\n",
      "Association Rules:\n",
      "                      antecedents                          consequents  \\\n",
      "0                     (Gladiator)                        (Sixth Sense)   \n",
      "1                   (Sixth Sense)                          (Gladiator)   \n",
      "2                          (LOTR)                        (Sixth Sense)   \n",
      "3                    (Green Mile)                        (Sixth Sense)   \n",
      "4                     (Gladiator)                            (Patriot)   \n",
      "..                            ...                                  ...   \n",
      "124          (Sixth Sense, LOTR2)   (Harry Potter1, Green Mile, LOTR1)   \n",
      "125  (Harry Potter1, Sixth Sense)           (Green Mile, LOTR2, LOTR1)   \n",
      "126           (LOTR2, Green Mile)  (Harry Potter1, Sixth Sense, LOTR1)   \n",
      "127        (Harry Potter1, LOTR2)     (Green Mile, Sixth Sense, LOTR1)   \n",
      "128   (Harry Potter1, Green Mile)          (Sixth Sense, LOTR2, LOTR1)   \n",
      "\n",
      "     support  confidence       lift  \n",
      "0        0.5    0.714286   1.190476  \n",
      "1        0.5    0.833333   1.190476  \n",
      "2        0.1    1.000000   1.666667  \n",
      "3        0.2    1.000000   1.666667  \n",
      "4        0.6    0.857143   1.428571  \n",
      "..       ...         ...        ...  \n",
      "124      0.1    1.000000  10.000000  \n",
      "125      0.1    1.000000  10.000000  \n",
      "126      0.1    1.000000  10.000000  \n",
      "127      0.1    1.000000  10.000000  \n",
      "128      0.1    1.000000  10.000000  \n",
      "\n",
      "[129 rows x 5 columns]\n"
     ]
    }
   ],
   "source": [
    "print(\"\\nAssociation Rules:\")\n",
    "print(rules[['antecedents', 'consequents', 'support', 'confidence', 'lift']])\n"
   ]
  },
  {
   "cell_type": "markdown",
   "id": "0feb83be-4a71-4055-a020-faca7a836d51",
   "metadata": {},
   "source": [
    "The association rules analysis reveals significant relationships between movie preferences, indicating strong positive associations (lift values > 1) between various films. For example, if customers watch **'Gladiator,'** they are likely to also watch **'Sixth Sense,'** with a confidence of 71.43%. Additionally, the rules with a lift of 10 suggest a highly synergistic viewing experience, indicating that combinations like **'Harry Potter1'** and **'Green Mile'** are strongly linked, providing opportunities for targeted marketing and recommendations."
   ]
  },
  {
   "cell_type": "code",
   "execution_count": 22,
   "id": "81b5cab4-f232-482c-a280-0f4f87dc767e",
   "metadata": {},
   "outputs": [],
   "source": [
    "#Business Impact\n",
    "\n",
    "\n",
    "#1.Increased Customer Satisfaction: By offering personalized movie recommendations, customers are more likely to find films they enjoy, leading to repeat purchases.\n",
    "\n",
    "#2.Higher Sales: Targeted marketing efforts based on association rules can boost sales through effective promotions.\n",
    "\n",
    "#3.Enhanced Customer Insights: Understanding audience preferences enables the company to make informed decisions about future movie acquisitions and marketing strategies."
   ]
  },
  {
   "cell_type": "code",
   "execution_count": null,
   "id": "c1922d12-ef80-4cf9-878b-1e02b283472c",
   "metadata": {},
   "outputs": [],
   "source": []
  }
 ],
 "metadata": {
  "kernelspec": {
   "display_name": "Python 3 (ipykernel)",
   "language": "python",
   "name": "python3"
  },
  "language_info": {
   "codemirror_mode": {
    "name": "ipython",
    "version": 3
   },
   "file_extension": ".py",
   "mimetype": "text/x-python",
   "name": "python",
   "nbconvert_exporter": "python",
   "pygments_lexer": "ipython3",
   "version": "3.11.7"
  }
 },
 "nbformat": 4,
 "nbformat_minor": 5
}
