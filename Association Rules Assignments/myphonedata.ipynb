{
 "cells": [
  {
   "cell_type": "markdown",
   "id": "5846480a-27ec-4f9e-b380-96b6ff8e0cf9",
   "metadata": {},
   "source": [
    "# 1. Business Problem"
   ]
  },
  {
   "cell_type": "code",
   "execution_count": 1,
   "id": "5648bd9f-7bb3-4614-819f-2add12fd33f0",
   "metadata": {},
   "outputs": [],
   "source": [
    "#1.1 Business Objective:\n",
    "\n",
    "#Analyze sales data to understand how phone models and regions are related. \n",
    "#Use this information to improve marketing for new phone models."
   ]
  },
  {
   "cell_type": "code",
   "execution_count": 2,
   "id": "3190ff5b-1378-466a-874f-d88faaa2e679",
   "metadata": {},
   "outputs": [],
   "source": [
    "#1.2 Constraits\n",
    "#Model Complexity: The model should be able to handle the complexity of the data while being easy to understand and interpret."
   ]
  },
  {
   "cell_type": "markdown",
   "id": "42ec3c5d-71bb-43d1-8706-636a16c96dac",
   "metadata": {},
   "source": [
    "# 2.Data Dictionary"
   ]
  },
  {
   "cell_type": "code",
   "execution_count": 3,
   "id": "e42ec27a-4b2f-41ca-8d89-3f1a260754bb",
   "metadata": {},
   "outputs": [],
   "source": [
    "#This dataset contains 6 binary discreate l features, representing to improve the sales"
   ]
  },
  {
   "cell_type": "markdown",
   "id": "8205389d-deae-4f2a-a844-42d0bf916cd0",
   "metadata": {},
   "source": [
    "# 3.Data Pre-processing"
   ]
  },
  {
   "cell_type": "code",
   "execution_count": 6,
   "id": "5eacf237-72a5-43b1-a5d4-2ae73a1f88b8",
   "metadata": {},
   "outputs": [],
   "source": [
    "import pandas as pd  # Used for data manipulation and analysis\n",
    "from mlxtend.frequent_patterns import apriori, association_rules "
   ]
  },
  {
   "cell_type": "code",
   "execution_count": 7,
   "id": "593393b3-7c04-477b-a011-05e3c8f9b9c7",
   "metadata": {},
   "outputs": [],
   "source": [
    "file_path = 'myphonedata.csv'  \n",
    "df = pd.read_csv(file_path)"
   ]
  },
  {
   "cell_type": "code",
   "execution_count": 10,
   "id": "fb34be22-c459-445d-9c4c-241d0dffe97d",
   "metadata": {},
   "outputs": [
    {
     "data": {
      "text/html": [
       "<div>\n",
       "<style scoped>\n",
       "    .dataframe tbody tr th:only-of-type {\n",
       "        vertical-align: middle;\n",
       "    }\n",
       "\n",
       "    .dataframe tbody tr th {\n",
       "        vertical-align: top;\n",
       "    }\n",
       "\n",
       "    .dataframe thead th {\n",
       "        text-align: right;\n",
       "    }\n",
       "</style>\n",
       "<table border=\"1\" class=\"dataframe\">\n",
       "  <thead>\n",
       "    <tr style=\"text-align: right;\">\n",
       "      <th></th>\n",
       "      <th>red</th>\n",
       "      <th>white</th>\n",
       "      <th>green</th>\n",
       "      <th>yellow</th>\n",
       "      <th>orange</th>\n",
       "      <th>blue</th>\n",
       "    </tr>\n",
       "  </thead>\n",
       "  <tbody>\n",
       "    <tr>\n",
       "      <th>0</th>\n",
       "      <td>True</td>\n",
       "      <td>True</td>\n",
       "      <td>True</td>\n",
       "      <td>False</td>\n",
       "      <td>False</td>\n",
       "      <td>False</td>\n",
       "    </tr>\n",
       "    <tr>\n",
       "      <th>1</th>\n",
       "      <td>False</td>\n",
       "      <td>True</td>\n",
       "      <td>False</td>\n",
       "      <td>False</td>\n",
       "      <td>True</td>\n",
       "      <td>False</td>\n",
       "    </tr>\n",
       "    <tr>\n",
       "      <th>2</th>\n",
       "      <td>False</td>\n",
       "      <td>True</td>\n",
       "      <td>False</td>\n",
       "      <td>False</td>\n",
       "      <td>False</td>\n",
       "      <td>True</td>\n",
       "    </tr>\n",
       "    <tr>\n",
       "      <th>3</th>\n",
       "      <td>True</td>\n",
       "      <td>True</td>\n",
       "      <td>False</td>\n",
       "      <td>False</td>\n",
       "      <td>True</td>\n",
       "      <td>False</td>\n",
       "    </tr>\n",
       "    <tr>\n",
       "      <th>4</th>\n",
       "      <td>True</td>\n",
       "      <td>False</td>\n",
       "      <td>False</td>\n",
       "      <td>False</td>\n",
       "      <td>False</td>\n",
       "      <td>True</td>\n",
       "    </tr>\n",
       "    <tr>\n",
       "      <th>5</th>\n",
       "      <td>False</td>\n",
       "      <td>True</td>\n",
       "      <td>False</td>\n",
       "      <td>False</td>\n",
       "      <td>False</td>\n",
       "      <td>True</td>\n",
       "    </tr>\n",
       "    <tr>\n",
       "      <th>6</th>\n",
       "      <td>True</td>\n",
       "      <td>False</td>\n",
       "      <td>False</td>\n",
       "      <td>False</td>\n",
       "      <td>False</td>\n",
       "      <td>True</td>\n",
       "    </tr>\n",
       "    <tr>\n",
       "      <th>7</th>\n",
       "      <td>True</td>\n",
       "      <td>True</td>\n",
       "      <td>False</td>\n",
       "      <td>False</td>\n",
       "      <td>False</td>\n",
       "      <td>True</td>\n",
       "    </tr>\n",
       "    <tr>\n",
       "      <th>8</th>\n",
       "      <td>False</td>\n",
       "      <td>False</td>\n",
       "      <td>True</td>\n",
       "      <td>False</td>\n",
       "      <td>False</td>\n",
       "      <td>False</td>\n",
       "    </tr>\n",
       "    <tr>\n",
       "      <th>9</th>\n",
       "      <td>True</td>\n",
       "      <td>True</td>\n",
       "      <td>False</td>\n",
       "      <td>False</td>\n",
       "      <td>False</td>\n",
       "      <td>True</td>\n",
       "    </tr>\n",
       "    <tr>\n",
       "      <th>10</th>\n",
       "      <td>False</td>\n",
       "      <td>False</td>\n",
       "      <td>False</td>\n",
       "      <td>True</td>\n",
       "      <td>False</td>\n",
       "      <td>False</td>\n",
       "    </tr>\n",
       "  </tbody>\n",
       "</table>\n",
       "</div>"
      ],
      "text/plain": [
       "      red  white  green  yellow  orange   blue\n",
       "0    True   True   True   False   False  False\n",
       "1   False   True  False   False    True  False\n",
       "2   False   True  False   False   False   True\n",
       "3    True   True  False   False    True  False\n",
       "4    True  False  False   False   False   True\n",
       "5   False   True  False   False   False   True\n",
       "6    True  False  False   False   False   True\n",
       "7    True   True  False   False   False   True\n",
       "8   False  False   True   False   False  False\n",
       "9    True   True  False   False   False   True\n",
       "10  False  False  False    True   False  False"
      ]
     },
     "execution_count": 10,
     "metadata": {},
     "output_type": "execute_result"
    }
   ],
   "source": [
    "df = df.astype(bool)\n",
    "df\n",
    "# Every cell in the DataFrame has either a True or False value, indicating the presence or absence of a specific color for each row. \n",
    "#Therefore, there are no NaN or empty values in the dataset."
   ]
  },
  {
   "cell_type": "code",
   "execution_count": 11,
   "id": "abd686ac-e3d6-45c3-ab2a-1014be685479",
   "metadata": {},
   "outputs": [],
   "source": [
    "# Step 3: Apply the Apriori algorithm to find frequent itemsets\n",
    "# We can set min_support to a reasonable threshold, such as 0.1 (i.e., 10%)\n",
    "frequent_itemsets = apriori(df, min_support=0.1, use_colnames=True)"
   ]
  },
  {
   "cell_type": "code",
   "execution_count": 13,
   "id": "2b9774c9-fec8-40ef-9f34-808c7043abac",
   "metadata": {},
   "outputs": [
    {
     "data": {
      "text/html": [
       "<div>\n",
       "<style scoped>\n",
       "    .dataframe tbody tr th:only-of-type {\n",
       "        vertical-align: middle;\n",
       "    }\n",
       "\n",
       "    .dataframe tbody tr th {\n",
       "        vertical-align: top;\n",
       "    }\n",
       "\n",
       "    .dataframe thead th {\n",
       "        text-align: right;\n",
       "    }\n",
       "</style>\n",
       "<table border=\"1\" class=\"dataframe\">\n",
       "  <thead>\n",
       "    <tr style=\"text-align: right;\">\n",
       "      <th></th>\n",
       "      <th>antecedents</th>\n",
       "      <th>consequents</th>\n",
       "      <th>antecedent support</th>\n",
       "      <th>consequent support</th>\n",
       "      <th>support</th>\n",
       "      <th>confidence</th>\n",
       "      <th>lift</th>\n",
       "      <th>leverage</th>\n",
       "      <th>conviction</th>\n",
       "      <th>zhangs_metric</th>\n",
       "    </tr>\n",
       "  </thead>\n",
       "  <tbody>\n",
       "    <tr>\n",
       "      <th>0</th>\n",
       "      <td>(orange)</td>\n",
       "      <td>(white)</td>\n",
       "      <td>0.181818</td>\n",
       "      <td>0.636364</td>\n",
       "      <td>0.181818</td>\n",
       "      <td>1.0</td>\n",
       "      <td>1.571429</td>\n",
       "      <td>0.066116</td>\n",
       "      <td>inf</td>\n",
       "      <td>0.444444</td>\n",
       "    </tr>\n",
       "  </tbody>\n",
       "</table>\n",
       "</div>"
      ],
      "text/plain": [
       "  antecedents consequents  antecedent support  consequent support   support  \\\n",
       "0    (orange)     (white)            0.181818            0.636364  0.181818   \n",
       "\n",
       "   confidence      lift  leverage  conviction  zhangs_metric  \n",
       "0         1.0  1.571429  0.066116         inf       0.444444  "
      ]
     },
     "execution_count": 13,
     "metadata": {},
     "output_type": "execute_result"
    }
   ],
   "source": [
    "# Step 4: Generate association rules from the frequent itemsets\n",
    "# We use 'confidence' as the metric, with a minimum confidence threshold (e.g., 70%)\n",
    "rules = association_rules(frequent_itemsets, metric=\"confidence\", min_threshold=0.7)\n",
    "rules\n",
    "\n"
   ]
  },
  {
   "cell_type": "markdown",
   "id": "56cb0b9f-e5ae-4aff-9c40-a8a98824c6a9",
   "metadata": {},
   "source": [
    "The confidence value is 1.0, meaning that whenever \"orange\" appears, \"white\" also always appears. "
   ]
  },
  {
   "cell_type": "markdown",
   "id": "22e9e009-c688-4c2d-86f8-7f299d7018d9",
   "metadata": {},
   "source": [
    "The lift value of 1.571429 suggests that \"white\" is 1.57 times more likely to appear when \"orange\" is present than it would appear in the dataset overall. \n",
    "A lift greater than 1 shows a positive association between \"orange\" and \"white"
   ]
  },
  {
   "cell_type": "code",
   "execution_count": 14,
   "id": "cc448179-b112-4a01-92bf-e1aacca76284",
   "metadata": {},
   "outputs": [
    {
     "name": "stdout",
     "output_type": "stream",
     "text": [
      "Frequent Itemsets:\n",
      "    support            itemsets\n",
      "0  0.545455               (red)\n",
      "1  0.636364             (white)\n",
      "2  0.181818             (green)\n",
      "3  0.181818            (orange)\n",
      "4  0.545455              (blue)\n",
      "5  0.363636        (white, red)\n",
      "6  0.363636         (blue, red)\n",
      "7  0.181818     (white, orange)\n",
      "8  0.363636       (white, blue)\n",
      "9  0.181818  (white, blue, red)\n"
     ]
    }
   ],
   "source": [
    "# Step 5: Output the results\n",
    "print(\"Frequent Itemsets:\")\n",
    "print(frequent_itemsets)\n",
    "\n"
   ]
  },
  {
   "cell_type": "markdown",
   "id": "3d5aa18f-7bf7-4926-8228-b83babd7d6bd",
   "metadata": {},
   "source": [
    "White is a dominant color, often appearing in combination with other colors, including red and blue.\n",
    "Green and orange are rarely seen in the dataset, either individually or in combination with other colors.\n",
    "The combination of white and red or blue and red occurs fairly frequently, suggesting that these pairs of colors have a strong association in the dataset.\n",
    "The appearance of three-color combinations is rare, as only one combination (white, blue, red) appears with a support of 18.18%"
   ]
  },
  {
   "cell_type": "code",
   "execution_count": 15,
   "id": "6296abfe-fd4a-4bbd-b8b3-0accdc173d0e",
   "metadata": {},
   "outputs": [
    {
     "name": "stdout",
     "output_type": "stream",
     "text": [
      "\n",
      "Association Rules:\n",
      "  antecedents consequents   support  confidence      lift\n",
      "0    (orange)     (white)  0.181818         1.0  1.571429\n"
     ]
    }
   ],
   "source": [
    "print(\"\\nAssociation Rules:\")\n",
    "print(rules[['antecedents', 'consequents', 'support', 'confidence', 'lift']])\n"
   ]
  },
  {
   "cell_type": "code",
   "execution_count": 16,
   "id": "dd79c504-c9a2-458a-aa57-f5a6f0937bcc",
   "metadata": {},
   "outputs": [],
   "source": []
  },
  {
   "cell_type": "code",
   "execution_count": null,
   "id": "9edfd74b-c820-4711-b4f2-ee3ed4cd1e19",
   "metadata": {},
   "outputs": [],
   "source": []
  },
  {
   "cell_type": "code",
   "execution_count": null,
   "id": "b552a94f-5b45-48ab-9617-865d310e99dc",
   "metadata": {},
   "outputs": [],
   "source": []
  }
 ],
 "metadata": {
  "kernelspec": {
   "display_name": "Python 3 (ipykernel)",
   "language": "python",
   "name": "python3"
  },
  "language_info": {
   "codemirror_mode": {
    "name": "ipython",
    "version": 3
   },
   "file_extension": ".py",
   "mimetype": "text/x-python",
   "name": "python",
   "nbconvert_exporter": "python",
   "pygments_lexer": "ipython3",
   "version": "3.11.7"
  }
 },
 "nbformat": 4,
 "nbformat_minor": 5
}
