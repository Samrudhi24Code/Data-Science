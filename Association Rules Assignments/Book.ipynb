{
 "cells": [
  {
   "cell_type": "markdown",
   "id": "90a4f42b-228b-402f-828b-228ed19a467e",
   "metadata": {},
   "source": [
    "# 1. Business Problem"
   ]
  },
  {
   "cell_type": "code",
   "execution_count": 3,
   "id": "c146c106-3567-43e7-bb48-b4d70b46f193",
   "metadata": {},
   "outputs": [],
   "source": [
    "#1.1. What is the business objective?\n",
    "\n",
    "#The primary objective is to help Kitabi Duniya, a heritage bookstore, \n",
    "#regain its lost customer base and increase footfall by utilizing data insights from association rules. \n",
    "#The goal is to identify buying patterns and itemsets that customers frequently purchase together to \n",
    "#optimize product placement, promotions, or recommend bundles that could increase sales.\n",
    "\n"
   ]
  },
  {
   "cell_type": "code",
   "execution_count": 4,
   "id": "12440ca9-bda2-4b9e-bea4-c00e70dfdb9b",
   "metadata": {},
   "outputs": [],
   "source": [
    "#1.2. Are there any constraints?\n",
    "#Possible constraints may include:\n",
    "\n",
    "#1.Limited historical data on customer transactions.\n",
    "#2.Budget constraints for implementing suggested strategies.\n",
    "#3.Potential competition with online retailers."
   ]
  },
  {
   "cell_type": "markdown",
   "id": "244d3076-6cfe-4202-8d0b-3c6b8fef1bcd",
   "metadata": {},
   "source": [
    "# 2. Data Dictionary"
   ]
  },
  {
   "cell_type": "code",
   "execution_count": 5,
   "id": "939744b0-169f-49f3-bb2c-c8a0e15b73f9",
   "metadata": {},
   "outputs": [],
   "source": [
    "#This dataset contains 11 binary categorical features, representing whether or not a customer bought \n",
    "#specific types of books.\n",
    "\n",
    "#These features are classified as discrete categorical data since they can only take two distinct values (0 or 1).\n",
    "\n"
   ]
  },
  {
   "cell_type": "markdown",
   "id": "a92b29e6-e500-4d58-a509-1e85784ac70a",
   "metadata": {},
   "source": [
    "# 3. Data Pre-processing"
   ]
  },
  {
   "cell_type": "code",
   "execution_count": 6,
   "id": "9f744251-efef-4cd8-b75d-242db29b70c9",
   "metadata": {},
   "outputs": [],
   "source": [
    "#3.1. Data Cleaning & Feature Engineering\n",
    "#The dataset is clean with no missing values. \n",
    "#The data is already binary, which suits the requirements for association rule mining using the Apriori algorithm. "
   ]
  },
  {
   "cell_type": "markdown",
   "id": "569edb19-6251-4727-959d-cfc72cab50bc",
   "metadata": {},
   "source": [
    "Apriori helps identify frequent combinations of items.\n",
    "Association rules provide insights into the relationships between those items."
   ]
  },
  {
   "cell_type": "markdown",
   "id": "c5dd761f-82b3-4363-9f82-638ad9b7d12c",
   "metadata": {},
   "source": [
    "# 4.Model Building"
   ]
  },
  {
   "cell_type": "code",
   "execution_count": 7,
   "id": "2b1fab83-347d-44bb-bcff-6e234fb1c450",
   "metadata": {},
   "outputs": [],
   "source": [
    "import pandas as pd  # Used for data manipulation and analysis\n",
    "from mlxtend.frequent_patterns import apriori, association_rules "
   ]
  },
  {
   "cell_type": "code",
   "execution_count": 8,
   "id": "4918304e-da05-4d48-89ef-3c2da23288e9",
   "metadata": {},
   "outputs": [],
   "source": [
    "# Step 4.1: Load the dataset\n",
    "file_path = 'book.csv'  \n",
    "df = pd.read_csv(file_path)"
   ]
  },
  {
   "cell_type": "code",
   "execution_count": 9,
   "id": "87dc17bc-d2f4-49b3-b925-b2f378206804",
   "metadata": {},
   "outputs": [],
   "source": [
    "# Step 2: Convert integer columns (0 and 1) to boolean (False and True)\n",
    "# Since the dataset is already in the form of 0's and 1's, we can convert it to boolean.\n",
    "df = df.astype(bool)"
   ]
  },
  {
   "cell_type": "code",
   "execution_count": 10,
   "id": "89e324b5-1287-452b-a309-961e2008cbac",
   "metadata": {},
   "outputs": [],
   "source": [
    "# Step 3: Apply the Apriori algorithm to find frequent itemsets\n",
    "# We can set min_support to a reasonable threshold, such as 0.1 (i.e., 10%)\n",
    "frequent_itemsets = apriori(df, min_support=0.1, use_colnames=True)"
   ]
  },
  {
   "cell_type": "code",
   "execution_count": 11,
   "id": "b8c69bcf-1bb9-4456-b4b8-2561d34c2bc8",
   "metadata": {},
   "outputs": [],
   "source": [
    "# Step 4: Generate association rules from the frequent itemsets\n",
    "# We use 'confidence' as the metric, with a minimum confidence threshold (e.g., 70%)\n",
    "rules = association_rules(frequent_itemsets, metric=\"confidence\", min_threshold=0.7)\n",
    "\n"
   ]
  },
  {
   "cell_type": "markdown",
   "id": "11a7744c-61c4-4940-8133-adb68ee7a241",
   "metadata": {},
   "source": [
    "The generated rules show relationships between books, such as if customers buy \"Children's Books,\" they are also likely to buy \"Youth Books.\""
   ]
  },
  {
   "cell_type": "markdown",
   "id": "4b989c63-1238-49de-bae6-588730938833",
   "metadata": {},
   "source": [
    "Lift: If the lift value is greater than 1, it indicates a strong positive association between the antecedents (purchased books) and the consequents (associated books).\n",
    "\n",
    "\n",
    "Confidence: Confidence indicates the probability of a customer buying the consequent books if they have already purchased the antecedent books. A higher confidence value implies a stronger association"
   ]
  },
  {
   "cell_type": "code",
   "execution_count": 12,
   "id": "fc9bf8a7-39bf-45fe-88b6-f0dfd333970a",
   "metadata": {},
   "outputs": [
    {
     "name": "stdout",
     "output_type": "stream",
     "text": [
      "Frequent Itemsets:\n",
      "    support                       itemsets\n",
      "0    0.4230                     (ChildBks)\n",
      "1    0.2475                     (YouthBks)\n",
      "2    0.4310                      (CookBks)\n",
      "3    0.2820                     (DoItYBks)\n",
      "4    0.2145                       (RefBks)\n",
      "5    0.2410                       (ArtBks)\n",
      "6    0.2760                      (GeogBks)\n",
      "7    0.1135                     (ItalCook)\n",
      "8    0.1085                     (Florence)\n",
      "9    0.1650           (ChildBks, YouthBks)\n",
      "10   0.2560            (ChildBks, CookBks)\n",
      "11   0.1840           (ChildBks, DoItYBks)\n",
      "12   0.1515             (ChildBks, RefBks)\n",
      "13   0.1625             (ChildBks, ArtBks)\n",
      "14   0.1950            (ChildBks, GeogBks)\n",
      "15   0.1620            (YouthBks, CookBks)\n",
      "16   0.1155           (DoItYBks, YouthBks)\n",
      "17   0.1010             (ArtBks, YouthBks)\n",
      "18   0.1205            (YouthBks, GeogBks)\n",
      "19   0.1875            (DoItYBks, CookBks)\n",
      "20   0.1525              (RefBks, CookBks)\n",
      "21   0.1670              (ArtBks, CookBks)\n",
      "22   0.1925             (GeogBks, CookBks)\n",
      "23   0.1135            (CookBks, ItalCook)\n",
      "24   0.1055             (DoItYBks, RefBks)\n",
      "25   0.1235             (ArtBks, DoItYBks)\n",
      "26   0.1325            (DoItYBks, GeogBks)\n",
      "27   0.1105              (RefBks, GeogBks)\n",
      "28   0.1275              (ArtBks, GeogBks)\n",
      "29   0.1290  (ChildBks, YouthBks, CookBks)\n",
      "30   0.1460  (ChildBks, DoItYBks, CookBks)\n",
      "31   0.1225    (ChildBks, RefBks, CookBks)\n",
      "32   0.1265    (ChildBks, ArtBks, CookBks)\n",
      "33   0.1495   (ChildBks, GeogBks, CookBks)\n",
      "34   0.1045  (ChildBks, DoItYBks, GeogBks)\n",
      "35   0.1020    (ChildBks, ArtBks, GeogBks)\n",
      "36   0.1015    (ArtBks, DoItYBks, CookBks)\n",
      "37   0.1085   (DoItYBks, GeogBks, CookBks)\n",
      "38   0.1035     (ArtBks, GeogBks, CookBks)\n"
     ]
    }
   ],
   "source": [
    "# Step 5: Output the results\n",
    "print(\"Frequent Itemsets:\")\n",
    "print(frequent_itemsets)\n",
    "\n"
   ]
  },
  {
   "cell_type": "markdown",
   "id": "74956f50-2548-4371-bc2c-2f9eb9aba0e7",
   "metadata": {},
   "source": [
    "The **ChildBks** and **CookBks** categories show high support (over 42%), indicating they are popular purchases and potential targets for promotional efforts. Additionally, significant combinations like **(YouthBks, ChildBks)** and **(CookBks, ChildBks)** highlight opportunities for cross-promotions and bundled sales strategies."
   ]
  },
  {
   "cell_type": "code",
   "execution_count": 13,
   "id": "ec0d9e49-9d10-4103-b67f-9fe8b5f606c3",
   "metadata": {},
   "outputs": [
    {
     "name": "stdout",
     "output_type": "stream",
     "text": [
      "\n",
      "Association Rules:\n",
      "             antecedents consequents  support  confidence      lift\n",
      "0               (RefBks)  (ChildBks)   0.1515    0.706294  1.669725\n",
      "1              (GeogBks)  (ChildBks)   0.1950    0.706522  1.670264\n",
      "2               (RefBks)   (CookBks)   0.1525    0.710956  1.649549\n",
      "3             (ItalCook)   (CookBks)   0.1135    1.000000  2.320186\n",
      "4   (ChildBks, YouthBks)   (CookBks)   0.1290    0.781818  1.813963\n",
      "5    (YouthBks, CookBks)  (ChildBks)   0.1290    0.796296  1.882497\n",
      "6   (ChildBks, DoItYBks)   (CookBks)   0.1460    0.793478  1.841017\n",
      "7    (DoItYBks, CookBks)  (ChildBks)   0.1460    0.778667  1.840820\n",
      "8     (ChildBks, RefBks)   (CookBks)   0.1225    0.808581  1.876058\n",
      "9      (RefBks, CookBks)  (ChildBks)   0.1225    0.803279  1.899004\n",
      "10    (ChildBks, ArtBks)   (CookBks)   0.1265    0.778462  1.806175\n",
      "11     (ArtBks, CookBks)  (ChildBks)   0.1265    0.757485  1.790745\n",
      "12   (ChildBks, GeogBks)   (CookBks)   0.1495    0.766667  1.778809\n",
      "13    (GeogBks, CookBks)  (ChildBks)   0.1495    0.776623  1.835989\n",
      "14   (DoItYBks, GeogBks)  (ChildBks)   0.1045    0.788679  1.864490\n",
      "15     (ArtBks, GeogBks)  (ChildBks)   0.1020    0.800000  1.891253\n",
      "16    (ArtBks, DoItYBks)   (CookBks)   0.1015    0.821862  1.906873\n",
      "17   (DoItYBks, GeogBks)   (CookBks)   0.1085    0.818868  1.899926\n",
      "18     (ArtBks, GeogBks)   (CookBks)   0.1035    0.811765  1.883445\n"
     ]
    }
   ],
   "source": [
    "print(\"\\nAssociation Rules:\")\n",
    "print(rules[['antecedents', 'consequents', 'support', 'confidence', 'lift']])\n"
   ]
  },
  {
   "cell_type": "markdown",
   "id": "3826c12c-cf23-4be6-9fea-2a728aa1c2dd",
   "metadata": {},
   "source": [
    "Customers frequently buy **Cookbooks** with other categories like **Youth, Art, and Children's Books**, indicating strong cross-selling opportunities. Additionally, high lift values suggest significant co-purchase behavior between categories like **Reference Books** and **Children's Books**."
   ]
  },
  {
   "cell_type": "code",
   "execution_count": 14,
   "id": "4418cd71-75b3-4383-bb44-4ba39c1d69a8",
   "metadata": {},
   "outputs": [],
   "source": [
    "#Business Impact:\n",
    "\n",
    "#Kitabi Duniya can use these insights to better arrange books in the store or recommend items during the checkout process.\n",
    "#Understanding customer purchase patterns can also help design personalized offers and drive more sales through targeted marketing campaigns."
   ]
  },
  {
   "cell_type": "code",
   "execution_count": null,
   "id": "5915f493-006b-434f-b599-2849e4d6b128",
   "metadata": {},
   "outputs": [],
   "source": []
  }
 ],
 "metadata": {
  "kernelspec": {
   "display_name": "Python 3 (ipykernel)",
   "language": "python",
   "name": "python3"
  },
  "language_info": {
   "codemirror_mode": {
    "name": "ipython",
    "version": 3
   },
   "file_extension": ".py",
   "mimetype": "text/x-python",
   "name": "python",
   "nbconvert_exporter": "python",
   "pygments_lexer": "ipython3",
   "version": "3.11.7"
  }
 },
 "nbformat": 4,
 "nbformat_minor": 5
}
