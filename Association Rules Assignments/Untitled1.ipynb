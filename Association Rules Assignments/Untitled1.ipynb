{
 "cells": [
  {
   "cell_type": "code",
   "execution_count": 1,
   "id": "431eb147-3e88-42a4-aacd-1d99365995cc",
   "metadata": {},
   "outputs": [
    {
     "name": "stdout",
     "output_type": "stream",
     "text": [
      "0.001\n"
     ]
    }
   ],
   "source": [
    "from scipy import constants\n",
    "\n",
    "print(constants.liter)"
   ]
  },
  {
   "cell_type": "code",
   "execution_count": 3,
   "id": "ebbaed35-f150-4817-b5e3-53f3f45ec564",
   "metadata": {},
   "outputs": [
    {
     "name": "stdout",
     "output_type": "stream",
     "text": [
      "1e+24\n",
      "1e+21\n",
      "1e+18\n",
      "1000000000000000.0\n",
      "1000000000000.0\n",
      "1000000000.0\n",
      "1000000.0\n",
      "1000.0\n"
     ]
    }
   ],
   "source": [
    "from scipy import constants\n",
    "\n",
    "print(constants.yotta)   \n",
    "print(constants.zetta)  \n",
    "print(constants.exa)     \n",
    "print(constants.peta)     \n",
    "print(constants.tera)    \n",
    "print(constants.giga)     \n",
    "print(constants.mega)    \n",
    "print(constants.kilo)    \n"
   ]
  },
  {
   "cell_type": "code",
   "execution_count": 4,
   "id": "3aa93ec5-b549-4b02-b849-209690fa20d2",
   "metadata": {},
   "outputs": [
    {
     "name": "stdout",
     "output_type": "stream",
     "text": [
      "1024\n",
      "1048576\n",
      "1073741824\n",
      "1099511627776\n",
      "1125899906842624\n",
      "1152921504606846976\n",
      "1180591620717411303424\n",
      "1208925819614629174706176\n"
     ]
    }
   ],
   "source": [
    "from scipy import constants\n",
    "\n",
    "print(constants.kibi)    #1024\n",
    "print(constants.mebi)    #1048576\n",
    "print(constants.gibi)    #1073741824\n",
    "print(constants.tebi)    #1099511627776\n",
    "print(constants.pebi)    #1125899906842624\n",
    "print(constants.exbi)    #1152921504606846976\n",
    "print(constants.zebi)    #1180591620717411303424\n",
    "print(constants.yobi)    #1208925819614629174706176"
   ]
  },
  {
   "cell_type": "code",
   "execution_count": 5,
   "id": "4f30c798-c554-4647-8e01-22e572f00e02",
   "metadata": {},
   "outputs": [
    {
     "name": "stdout",
     "output_type": "stream",
     "text": [
      "0.001\n"
     ]
    }
   ],
   "source": [
    "print(constants.gram) "
   ]
  },
  {
   "cell_type": "code",
   "execution_count": 7,
   "id": "1b3a850b-bd19-47e3-9b40-6d20b9fe9bc1",
   "metadata": {},
   "outputs": [
    {
     "name": "stdout",
     "output_type": "stream",
     "text": [
      "60.0\n",
      "3600.0\n",
      "86400.0\n",
      "604800.0\n",
      "31536000.0\n",
      "31557600.0\n"
     ]
    }
   ],
   "source": [
    "print(constants.minute)      \n",
    "print(constants.hour)       \n",
    "print(constants.day)         \n",
    "print(constants.week)        \n",
    "print(constants.year)        \n",
    "print(constants.Julian_year)"
   ]
  },
  {
   "cell_type": "code",
   "execution_count": 8,
   "id": "7e2ddb67-7e21-41b7-a727-cb6128b38e96",
   "metadata": {},
   "outputs": [
    {
     "name": "stdout",
     "output_type": "stream",
     "text": [
      "0.0254\n",
      "0.30479999999999996\n",
      "0.9143999999999999\n"
     ]
    }
   ],
   "source": [
    "print(constants.inch)              \n",
    "print(constants.foot)             \n",
    "print(constants.yard) "
   ]
  },
  {
   "cell_type": "code",
   "execution_count": 9,
   "id": "c1ea3484-9c59-466d-bf73-3d7e2e5d21ab",
   "metadata": {},
   "outputs": [
    {
     "name": "stdout",
     "output_type": "stream",
     "text": [
      "273.15\n",
      "0.5555555555555556\n"
     ]
    }
   ],
   "source": [
    "from scipy import constants\n",
    "\n",
    "print(constants.zero_Celsius)      #273.15\n",
    "print(constants.degree_Fahrenheit) #0.5555555555555556"
   ]
  },
  {
   "cell_type": "code",
   "execution_count": null,
   "id": "81023460-4004-429d-b4df-d63d690c276c",
   "metadata": {},
   "outputs": [],
   "source": []
  }
 ],
 "metadata": {
  "kernelspec": {
   "display_name": "Python 3 (ipykernel)",
   "language": "python",
   "name": "python3"
  },
  "language_info": {
   "codemirror_mode": {
    "name": "ipython",
    "version": 3
   },
   "file_extension": ".py",
   "mimetype": "text/x-python",
   "name": "python",
   "nbconvert_exporter": "python",
   "pygments_lexer": "ipython3",
   "version": "3.11.7"
  }
 },
 "nbformat": 4,
 "nbformat_minor": 5
}
